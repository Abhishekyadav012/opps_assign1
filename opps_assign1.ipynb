{
 "cells": [
  {
   "cell_type": "markdown",
   "id": "75faf078-d336-4e09-9de9-1208f885e6a3",
   "metadata": {},
   "source": [
    "Q1. Explain Class and Object with respect to Object-Oriented Programming. Give a suitable example."
   ]
  },
  {
   "cell_type": "code",
   "execution_count": null,
   "id": "bfdf6300-cda8-4162-b223-c02b2a9cdb4e",
   "metadata": {},
   "outputs": [],
   "source": [
    "In python evething is object . in python class is blueprint ,model or plan ,which  is nothing but class"
   ]
  },
  {
   "cell_type": "code",
   "execution_count": null,
   "id": "f001c62f-28d4-49a4-a5d1-6af2e3a75b80",
   "metadata": {},
   "outputs": [],
   "source": [
    "In python object is physical existance of class.we can create any number of objects for a class"
   ]
  },
  {
   "cell_type": "code",
   "execution_count": 7,
   "id": "c1aaa442-dde4-449c-9281-2c901408c848",
   "metadata": {},
   "outputs": [],
   "source": [
    "class student:\n",
    "    def abhi(self):\n",
    "        count=0\n",
    "        n=int(input(\"Enter Any Number\"))\n",
    "        if n<=1:\n",
    "            print(\"this is not a prime number\")\n",
    "        else:\n",
    "            for i in range(1,n+1):\n",
    "                if n%i==0:\n",
    "                    count=count+1\n",
    "            if count==2:\n",
    "                print(\"It is prime number\")\n",
    "            else:\n",
    "                print(\"it's not prime number\")"
   ]
  },
  {
   "cell_type": "code",
   "execution_count": 8,
   "id": "ba58687f-b037-4c86-aab5-622ea7863515",
   "metadata": {},
   "outputs": [],
   "source": [
    "s=student()"
   ]
  },
  {
   "cell_type": "code",
   "execution_count": 11,
   "id": "d9620b5a-7fdf-4c28-b179-3ef5bf78efda",
   "metadata": {},
   "outputs": [
    {
     "name": "stdin",
     "output_type": "stream",
     "text": [
      "Enter Any Number 8\n"
     ]
    },
    {
     "name": "stdout",
     "output_type": "stream",
     "text": [
      "it's not prime number\n"
     ]
    }
   ],
   "source": [
    "s.abhi()"
   ]
  },
  {
   "cell_type": "markdown",
   "id": "f2898103-f80a-4c87-ab76-3c1b165b5d95",
   "metadata": {},
   "source": [
    "Q2. Name the four pillars of OOPs."
   ]
  },
  {
   "cell_type": "code",
   "execution_count": null,
   "id": "18f77098-324b-4c94-ade9-377b6a9fad85",
   "metadata": {},
   "outputs": [],
   "source": [
    "1. ABSTRACTION\n",
    "2. ENCAPSULATION\n",
    "3. INHERITANCE\n",
    "4. POLYMORPHISM"
   ]
  },
  {
   "cell_type": "markdown",
   "id": "830418d3-d5ec-41fd-92a1-9cd21ef393b6",
   "metadata": {},
   "source": [
    "Q3. Explain why the __init__() function is used. Give a suitable example."
   ]
  },
  {
   "cell_type": "code",
   "execution_count": null,
   "id": "4f66d979-cf5d-46e0-82cd-4aaca05badb8",
   "metadata": {},
   "outputs": [],
   "source": [
    "This is the constructor function.Constructor will be executed automatically at the time of object creation.\n",
    "The main purpose of constructor is used to initialize the instance variable."
   ]
  },
  {
   "cell_type": "code",
   "execution_count": 16,
   "id": "0d2a5a85-14a1-4ebb-96fb-f40e8dab28ad",
   "metadata": {},
   "outputs": [],
   "source": [
    "class student:\n",
    "    def __init__(self,x,y,z):\n",
    "        self.name=x\n",
    "        self.course=y\n",
    "        self.rollno=z\n",
    "    def std(self):\n",
    "        print(\"Student name is: {}\\n Course is: {}\\n Roll number is: {}\".format(self.name,self.course,self.rollno))"
   ]
  },
  {
   "cell_type": "code",
   "execution_count": 17,
   "id": "66e87232-740a-48b3-91d0-69f365b07cdc",
   "metadata": {},
   "outputs": [],
   "source": [
    "s1=student(\"sudh\",\"data_science\",100)\n",
    "s2=student(\"abhi\",\"data_science\",101)"
   ]
  },
  {
   "cell_type": "code",
   "execution_count": 18,
   "id": "32a8fd4b-346e-4452-882b-4e287769c3ca",
   "metadata": {},
   "outputs": [
    {
     "name": "stdout",
     "output_type": "stream",
     "text": [
      "Student name is sudh\n",
      " Course is data_science\n",
      " Roll number is 100\n"
     ]
    }
   ],
   "source": [
    "s1.std()"
   ]
  },
  {
   "cell_type": "code",
   "execution_count": 19,
   "id": "59b53125-fb66-4c95-b787-67bcf9424ebd",
   "metadata": {},
   "outputs": [
    {
     "name": "stdout",
     "output_type": "stream",
     "text": [
      "Student name is abhi\n",
      " Course is data_science\n",
      " Roll number is 101\n"
     ]
    }
   ],
   "source": [
    "s2.std()"
   ]
  },
  {
   "cell_type": "markdown",
   "id": "4e7c9bb2-4cec-4844-95bb-27d1bac529a9",
   "metadata": {},
   "source": [
    "Q4. Why self is used in OOPs?"
   ]
  },
  {
   "cell_type": "code",
   "execution_count": 21,
   "id": "2d27ed5e-b728-4497-8bed-b2fe1ec03428",
   "metadata": {},
   "outputs": [
    {
     "data": {
      "text/plain": [
       "'self is used in oops to pointing the current object. self repersents the instance of the class. By using self \\naccess the attributes, method of the class in python.'"
      ]
     },
     "execution_count": 21,
     "metadata": {},
     "output_type": "execute_result"
    }
   ],
   "source": [
    "'''self is used in oops to pointing the current object. self repersents the instance of the class. By using self \n",
    "access the attributes, method of the class in python.'''"
   ]
  },
  {
   "cell_type": "markdown",
   "id": "10108854-0a2e-4d34-bb34-f9938754d55d",
   "metadata": {},
   "source": [
    "Q5. What is inheritance? Give an example for each type of inheritance."
   ]
  },
  {
   "cell_type": "code",
   "execution_count": 22,
   "id": "87c8b112-07f2-4989-bbf9-e8b62cf91691",
   "metadata": {},
   "outputs": [],
   "source": [
    "'''Inheritance is most important concept of object oriented programming system. It is mechanism that allow to create hierarchy\n",
    "of the class that share a set of properties and method  one class to another class'''\n",
    "\n",
    "'''There are two types of inheritance available in python.\n",
    "1. MULTILEVEL INHERITANCE\n",
    "2. MULTIPLE INHERITANCE'''\n",
    "\n",
    "class class1:\n",
    "    def test_meth(self):\n",
    "        return \"this is class1 method\"\n"
   ]
  },
  {
   "cell_type": "code",
   "execution_count": 23,
   "id": "8e392736-e34c-4fe0-9283-771ca5fb551a",
   "metadata": {},
   "outputs": [],
   "source": [
    "class class2(class1):\n",
    "    def test_class2(self):\n",
    "        return \"this is class2 method\""
   ]
  },
  {
   "cell_type": "code",
   "execution_count": 24,
   "id": "d1510b40-a584-4d63-9e8e-e9f4e7c35425",
   "metadata": {},
   "outputs": [],
   "source": [
    "class class3(class2):\n",
    "    pass"
   ]
  },
  {
   "cell_type": "code",
   "execution_count": 25,
   "id": "71b129d7-cb51-4004-a88b-9e83fb7d5c19",
   "metadata": {},
   "outputs": [],
   "source": [
    "obj_class3=class3()"
   ]
  },
  {
   "cell_type": "code",
   "execution_count": 26,
   "id": "db730d5d-46f0-4ff6-a362-5eda759db967",
   "metadata": {},
   "outputs": [
    {
     "data": {
      "text/plain": [
       "'this is class1 method'"
      ]
     },
     "execution_count": 26,
     "metadata": {},
     "output_type": "execute_result"
    }
   ],
   "source": [
    "obj_class3.test_meth()"
   ]
  },
  {
   "cell_type": "code",
   "execution_count": 27,
   "id": "912fdd15-2b6a-4591-be9a-9e3979d283a2",
   "metadata": {},
   "outputs": [
    {
     "data": {
      "text/plain": [
       "'this is class2 method'"
      ]
     },
     "execution_count": 27,
     "metadata": {},
     "output_type": "execute_result"
    }
   ],
   "source": [
    "obj_class3.test_class2()"
   ]
  },
  {
   "cell_type": "code",
   "execution_count": null,
   "id": "c490525f-1aba-43b9-86a4-6786e0bda209",
   "metadata": {},
   "outputs": [],
   "source": []
  }
 ],
 "metadata": {
  "kernelspec": {
   "display_name": "Python 3 (ipykernel)",
   "language": "python",
   "name": "python3"
  },
  "language_info": {
   "codemirror_mode": {
    "name": "ipython",
    "version": 3
   },
   "file_extension": ".py",
   "mimetype": "text/x-python",
   "name": "python",
   "nbconvert_exporter": "python",
   "pygments_lexer": "ipython3",
   "version": "3.10.8"
  }
 },
 "nbformat": 4,
 "nbformat_minor": 5
}
